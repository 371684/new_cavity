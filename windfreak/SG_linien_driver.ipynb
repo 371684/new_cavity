{
 "cells": [
  {
   "cell_type": "code",
   "execution_count": 1,
   "metadata": {},
   "outputs": [
    {
     "name": "stdout",
     "output_type": "stream",
     "text": [
      "Try to connect to 10.10.222.30:18862\n",
      "Connection established!\n"
     ]
    }
   ],
   "source": [
    "from Peak_Search_Linien import ini_peak_search, mod_peak_search,zero_measure,fir_measure\n",
    "from windfreak import SynthHD\n",
    "import numpy as np\n",
    "import numpy.typing as npt\n",
    "import matplotlib.pyplot as plt\n",
    "from linien_utils import get_waveform, set_scan_range\n",
    "from linien_client.connection import LinienClient\n",
    "from scipy.signal import find_peaks\n",
    "\n",
    "import time\n",
    "import tqdm\n",
    "import csv\n",
    "resource_name_windfreak = \"COM8\"\n",
    "synthd = SynthHD(resource_name_windfreak)\n",
    "synthd.init()\n",
    "rf_out = 0\n",
    "c = LinienClient(\n",
    "    host=\"10.10.222.30\",\n",
    "    user=\"root\",\n",
    "    password=\"root\"\n",
    ")\n",
    "c.connect(autostart_server=True, use_parameter_cache=True)\n"
   ]
  },
  {
   "cell_type": "markdown",
   "metadata": {},
   "source": [
    "Peak Search"
   ]
  },
  {
   "cell_type": "code",
   "execution_count": 2,
   "metadata": {},
   "outputs": [
    {
     "name": "stdout",
     "output_type": "stream",
     "text": [
      "0.4384765625\n",
      "1.3935546875\n",
      "0.955078125\n"
     ]
    },
    {
     "ename": "KeyboardInterrupt",
     "evalue": "",
     "output_type": "error",
     "traceback": [
      "\u001b[1;31m---------------------------------------------------------------------------\u001b[0m",
      "\u001b[1;31mKeyboardInterrupt\u001b[0m                         Traceback (most recent call last)",
      "Cell \u001b[1;32mIn[2], line 14\u001b[0m\n\u001b[0;32m     12\u001b[0m time\u001b[38;5;241m.\u001b[39msleep(\u001b[38;5;241m1\u001b[39m)\n\u001b[0;32m     13\u001b[0m synthd[rf_out]\u001b[38;5;241m.\u001b[39mpower \u001b[38;5;241m=\u001b[39m \u001b[38;5;241m-\u001b[39m\u001b[38;5;241m60\u001b[39m\n\u001b[1;32m---> 14\u001b[0m ini_peak, ini_reso \u001b[38;5;241m=\u001b[39m ini_peak_search(c)\n\u001b[0;32m     15\u001b[0m \u001b[38;5;66;03m# print(ini_peak/1024-1)\u001b[39;00m\n\u001b[0;32m     16\u001b[0m \u001b[38;5;66;03m# print(ini_peak)\u001b[39;00m\n\u001b[0;32m     17\u001b[0m zero_amp \u001b[38;5;241m=\u001b[39m []\n",
      "File \u001b[1;32mc:\\Users\\centr\\OneDrive\\Documents\\GitHub\\new_cavity\\windfreak\\Peak_Search_Linien.py:30\u001b[0m, in \u001b[0;36mini_peak_search\u001b[1;34m(c, threshold)\u001b[0m\n\u001b[0;32m     28\u001b[0m     \u001b[38;5;28mprint\u001b[39m(\u001b[38;5;241m2\u001b[39m\u001b[38;5;241m*\u001b[39mini_peaks[\u001b[38;5;241m1\u001b[39m]\u001b[38;5;241m/\u001b[39m\u001b[38;5;28mlen\u001b[39m(ini_rev_data))\n\u001b[0;32m     29\u001b[0m     \u001b[38;5;28mprint\u001b[39m(\u001b[38;5;241m2\u001b[39m\u001b[38;5;241m*\u001b[39mFSR_points\u001b[38;5;241m/\u001b[39m\u001b[38;5;28mlen\u001b[39m(ini_rev_data))\n\u001b[1;32m---> 30\u001b[0m     \u001b[38;5;28;01mraise\u001b[39;00m \u001b[38;5;167;01mKeyboardInterrupt\u001b[39;00m\n\u001b[0;32m     31\u001b[0m \u001b[38;5;28;01melse\u001b[39;00m:\n\u001b[0;32m     32\u001b[0m     plt\u001b[38;5;241m.\u001b[39mplot(ini_rev_data)\n",
      "\u001b[1;31mKeyboardInterrupt\u001b[0m: "
     ]
    }
   ],
   "source": [
    "synthd[rf_out].enable = False\n",
    "zero_amp_all = []\n",
    "fir_amp_all = []\n",
    "pow_max_all = []\n",
    "scan_data = []\n",
    "power_scan = np.linspace(-15, 8, 25)\n",
    "fre_scan = np.linspace(1700e6,2700e6,1)\n",
    "\n",
    "fir_amps = []\n",
    "synthd[rf_out].enable = True\n",
    "for rf_fre in fre_scan:\n",
    "    time.sleep(1)\n",
    "    synthd[rf_out].power = -60\n",
    "    ini_peak, ini_reso = ini_peak_search(c)\n",
    "    zero_amp = []\n",
    "    fir_amp = []\n",
    "\n",
    "    for shdpower in tqdm.tqdm(power_scan):\n",
    "\n",
    "        synthd[rf_out].frequency = rf_fre\n",
    "        synthd[rf_out].power = shdpower\n",
    "        time.sleep(0.5)\n",
    "        mod_rev_data, mod_peak = mod_peak_search(c)\n",
    "\n",
    "        mod_zero_peak1, mod_zero_peak2, mod_zero_amp = zero_measure(mod_rev_data, ini_peak, mod_peak, ini_reso)\n",
    "                \n",
    "        mod_fir_peak, mod_fir_amp = fir_measure(c, mod_rev_data, ini_peak, mod_peak, rf_fre,ini_reso)\n",
    "        \n",
    "        zero_amp.append(mod_zero_amp)\n",
    "        fir_amp.append(mod_fir_amp)\n",
    "        # time.sleep(1)\n",
    "    pow_max = power_scan[fir_amp.index(max(fir_amp))]\n",
    "   \n",
    "   \n",
    "   \n",
    "    scan_data.append([rf_fre,pow_max])\n",
    "    fir_amps.append(fir_amp)\n",
    "    pow_max_all.append(pow_max)\n",
    "    zero_amp_all.append(zero_amp)\n",
    "    fir_amp_all.append(fir_amp)\n",
    "    "
   ]
  },
  {
   "cell_type": "code",
   "execution_count": 4,
   "metadata": {},
   "outputs": [
    {
     "data": {
      "image/png": "[encoded data removed]",
      "text/plain": [
       "<Figure size 640x480 with 1 Axes>"
      ]
     },
     "metadata": {},
     "output_type": "display_data"
    }
   ],
   "source": [
    "for i in range(1):\n",
    "    plt.plot(power_scan,fir_amp)\n",
    "    # plt.plot(power_scan,zero_amp_all[i])"
   ]
  },
  {
   "cell_type": "code",
   "execution_count": 3,
   "metadata": {},
   "outputs": [],
   "source": [
    "synthd.close()"
   ]
  },
  {
   "cell_type": "code",
   "execution_count": 1,
   "metadata": {},
   "outputs": [
    {
     "ename": "NameError",
     "evalue": "name 'np' is not defined",
     "output_type": "error",
     "traceback": [
      "\u001b[1;31m---------------------------------------------------------------------------\u001b[0m",
      "\u001b[1;31mNameError\u001b[0m                                 Traceback (most recent call last)",
      "Cell \u001b[1;32mIn[1], line 3\u001b[0m\n\u001b[0;32m      1\u001b[0m x\u001b[38;5;241m=\u001b[39m[\u001b[38;5;241m1\u001b[39m,\u001b[38;5;241m0.8\u001b[39m,\u001b[38;5;241m0.7\u001b[39m,\u001b[38;5;241m0.6\u001b[39m,\u001b[38;5;241m0.5\u001b[39m,\u001b[38;5;241m0.4\u001b[39m,\u001b[38;5;241m0.3\u001b[39m,\u001b[38;5;241m0.2\u001b[39m,\u001b[38;5;241m0.1\u001b[39m,\u001b[38;5;241m0.05\u001b[39m]\n\u001b[0;32m      2\u001b[0m y\u001b[38;5;241m=\u001b[39m[\u001b[38;5;241m0\u001b[39m,\u001b[38;5;241m0.021\u001b[39m,\u001b[38;5;241m0.035\u001b[39m,\u001b[38;5;241m0.045\u001b[39m,\u001b[38;5;241m0.07\u001b[39m,\u001b[38;5;241m0.094\u001b[39m,\u001b[38;5;241m0.12\u001b[39m,\u001b[38;5;241m0.155\u001b[39m,\u001b[38;5;241m0.17\u001b[39m,\u001b[38;5;241m0.177\u001b[39m]\n\u001b[1;32m----> 3\u001b[0m xs\u001b[38;5;241m=\u001b[39mnp\u001b[38;5;241m.\u001b[39mlinspace(\u001b[38;5;241m0\u001b[39m,\u001b[38;5;241m1\u001b[39m,\u001b[38;5;241m100\u001b[39m)\n\u001b[0;32m      4\u001b[0m poly \u001b[38;5;241m=\u001b[39m np\u001b[38;5;241m.\u001b[39mpolyfit(x,y,\u001b[38;5;241m1\u001b[39m)\n\u001b[0;32m      5\u001b[0m poly_y \u001b[38;5;241m=\u001b[39m np\u001b[38;5;241m.\u001b[39mpoly1d(poly)(xs)\n",
      "\u001b[1;31mNameError\u001b[0m: name 'np' is not defined"
     ]
    }
   ],
   "source": [
    "x=[1,0.8,0.7,0.6,0.5,0.4,0.3,0.2,0.1,0.05]\n",
    "y=[0,0.021,0.035,0.045,0.07,0.094,0.12,0.155,0.17,0.177]\n",
    "xs=np.linspace(0,1,100)\n",
    "poly = np.polyfit(x,y,1)\n",
    "poly_y = np.poly1d(poly)(xs)\n",
    "plt.scatter(x,y)\n",
    "plt.plot(xs,poly_y)\n",
    "plt.xlabel(\"amplityude\")\n",
    "plt.ylabel(\"offset\")\n",
    "print(poly)"
   ]
  }
 ],
 "metadata": {
  "kernelspec": {
   "display_name": "base",
   "language": "python",
   "name": "python3"
  },
  "language_info": {
   "codemirror_mode": {
    "name": "ipython",
    "version": 3
   },
   "file_extension": ".py",
   "mimetype": "text/x-python",
   "name": "python",
   "nbconvert_exporter": "python",
   "pygments_lexer": "ipython3",
   "version": "3.11.4"
  }
 },
 "nbformat": 4,
 "nbformat_minor": 2
}
