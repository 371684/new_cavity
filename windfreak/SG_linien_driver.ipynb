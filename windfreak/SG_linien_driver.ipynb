{
 "cells": [
  {
   "cell_type": "code",
   "execution_count": null,
   "metadata": {},
   "outputs": [],
   "source": [
    "from Peak_Search_Linien import ini_peak_search, reso_det, mod_peak_search,zero_measure,fir_measure\n",
    "from windfreak import SynthHD\n",
    "import numpy as np\n",
    "import numpy.typing as npt\n",
    "import matplotlib.pyplot as plt\n",
    "from linien_utils import get_waveform, set_scan_range\n",
    "from linien_client.connection import LinienClient\n",
    "\n",
    "import h5py\n",
    "import time\n",
    "import tqdm\n",
    "import csv"
   ]
  },
  {
   "cell_type": "code",
   "execution_count": null,
   "metadata": {},
   "outputs": [],
   "source": [
    "resource_name_windfreak = \"COM8\"\n",
    "synthd = SynthHD(resource_name_windfreak)\n",
    "synthd.init()\n",
    "rf_out = 0"
   ]
  },
  {
   "cell_type": "code",
   "execution_count": null,
   "metadata": {},
   "outputs": [],
   "source": [
    "c = LinienClient(\n",
    "    host=\"10.10.11.30\",\n",
    "    user=\"root\",\n",
    "    password=\"root\"\n",
    ")\n",
    "c.connect(autostart_server=True, use_parameter_cache=True)\n"
   ]
  },
  {
   "cell_type": "markdown",
   "metadata": {},
   "source": [
    "Peak Search"
   ]
  },
  {
   "cell_type": "code",
   "execution_count": null,
   "metadata": {},
   "outputs": [],
   "source": [
    "synthd[rf_out].enable = False\n",
    "zero_amp_all = []\n",
    "fir_amp_all = []\n",
    "pow_max_all = []\n",
    "scan_data = []\n",
    "power_scan = np.linspace(-15, 8, 10)\n",
    "fre_scan = np.linspace(1700e6,2700e6,1)\n",
    "\n",
    "fir_amps = []\n",
    "\n",
    "for rf_fre in fre_scan:\n",
    "    synthd[rf_out].enable = False\n",
    "    ini_rev_data = get_waveform(c)\n",
    "    ini_peak = ini_peak_search(ini_rev_data)\n",
    "    ini_reso = reso_det(ini_peak)\n",
    "    zero_amp = []\n",
    "    fir_amp = []\n",
    "    synthd[rf_out].enable = True\n",
    "    for shdpower in tqdm.tqdm(power_scan):\n",
    "        synthd[rf_out].frequency = rf_fre\n",
    "        synthd[rf_out].power = shdpower\n",
    "        mod_rev_data  = get_waveform(c)\n",
    "        # time.sleep(1)\n",
    "        mod_peak = mod_peak_search(mod_rev_data)\n",
    "        mod_zero_peak1, mod_zero_peak2, mod_zero_amp = zero_measure(mod_rev_data, ini_peak, mod_peak, ini_reso)\n",
    "        mod_fir_peak, mod_fir_amp = fir_measure(c, mod_rev_data, ini_peak, mod_peak, rf_fre,ini_reso)\n",
    "        \n",
    "        if mod_fir_peak == mod_zero_peak2:\n",
    "            mode_fir_amp = 0.05\n",
    "        zero_amp.append(mod_zero_amp)\n",
    "        fir_amp.append(mod_fir_amp)\n",
    "        # time.sleep(1)\n",
    "    pow_max = power_scan[fir_amp.index(max(fir_amp))]\n",
    "    scan_data.append([rf_fre,pow_max])\n",
    "    fir_amps.append(fir_amp)\n",
    "    pow_max_all.append(pow_max)\n",
    "    zero_amp_all.append(zero_amp)\n",
    "    fir_amp_all.append(fir_amp)\n",
    "    "
   ]
  }
 ],
 "metadata": {
  "language_info": {
   "name": "python"
  }
 },
 "nbformat": 4,
 "nbformat_minor": 2
}
