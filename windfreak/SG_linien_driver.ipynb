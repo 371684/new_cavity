{
 "cells": [
  {
   "cell_type": "code",
   "execution_count": 1,
   "metadata": {},
   "outputs": [
    {
     "name": "stderr",
     "output_type": "stream",
     "text": [
      "linien_client.connection       INFO     Try to connect to 10.10.222.36:18862\n",
      "linien_client.connection       INFO     Connection established!\n"
     ]
    }
   ],
   "source": [
    "from Peak_Search_Linien import LinienDevice\n",
    "from windfreak import SynthHD\n",
    "import numpy as np\n",
    "import numpy.typing as npt\n",
    "import matplotlib.pyplot as plt\n",
    "from linien_utils import get_waveform, set_scan_range\n",
    "from linien_client.connection import LinienClient\n",
    "from scipy.signal import find_peaks\n",
    "\n",
    "import statistics\n",
    "import time\n",
    "import tqdm\n",
    "import csv\n",
    "resource_name_windfreak = \"COM8\"\n",
    "try:\n",
    "    synthd = SynthHD(resource_name_windfreak)\n",
    "    synthd.init()\n",
    "except Exception as e:\n",
    "    print(e)\n",
    "rf_out = 1\n",
    "c = LinienDevice(\n",
    "    host=\"10.10.222.36\",\n",
    "    user=\"root\",\n",
    "    password=\"root\"\n",
    ")\n",
    "# c.connect(autostart_server=True, use_parameter_cache=True)\n"
   ]
  },
  {
   "cell_type": "markdown",
   "metadata": {},
   "source": [
    "Peak Search"
   ]
  },
  {
   "cell_type": "code",
   "execution_count": 2,
   "metadata": {},
   "outputs": [
    {
     "name": "stderr",
     "output_type": "stream",
     "text": [
      "100%|██████████| 200/200 [00:43<00:00,  4.60it/s]\n",
      "100%|██████████| 200/200 [00:44<00:00,  4.54it/s]\n",
      "100%|██████████| 200/200 [00:43<00:00,  4.59it/s]\n",
      "100%|██████████| 200/200 [00:43<00:00,  4.56it/s]\n",
      "100%|██████████| 200/200 [00:43<00:00,  4.57it/s]\n",
      "100%|██████████| 200/200 [00:44<00:00,  4.52it/s]\n",
      "100%|██████████| 200/200 [00:43<00:00,  4.60it/s]\n",
      "100%|██████████| 200/200 [00:43<00:00,  4.56it/s]\n",
      " 18%|█▊        | 35/200 [00:07<00:35,  4.68it/s]"
     ]
    }
   ],
   "source": [
    "for j in range(1,5):\n",
    "    zero_amp_all = []\n",
    "    fir_amp_all = []\n",
    "    pow_max_all = []\n",
    "    scan_data = []\n",
    "    power_scan = np.linspace(-15, 10, 200)\n",
    "    fre_scan = np.linspace(1700e6,2700e6,200)\n",
    "    fre_scan = np.delete(fre_scan,np.where(np.logical_and(fre_scan<2000e6 , fre_scan>=1987e6))) # could not resolve\n",
    "    fir_amps = []\n",
    "    synthd[rf_out].enable = False\n",
    "    time.sleep(1)\n",
    "    c.ini_peak_search()\n",
    "    synthd[rf_out].enable = True\n",
    "\n",
    "    i=0\n",
    "    i0=0\n",
    "    while i < len(fre_scan):\n",
    "        i0=i0+1\n",
    "        if i0 > i + 20: # retried multiple times but couldnt find peak\n",
    "            i0 = i\n",
    "            np.delete(fre_scan, i)\n",
    "            continue\n",
    "        set_scan_range(c.client, 0, 0.6)    \n",
    "        fre_scan_start = time.time()\n",
    "        rf_fre = fre_scan[i]\n",
    "        fir_amp = np.zeros(len(power_scan))\n",
    "        synthd[rf_out].frequency = rf_fre\n",
    "        if rf_out == 0:\n",
    "            if rf_fre > 2300e6 and rf_fre > 2450e6:\n",
    "                synthd[rf_out].power = -18\n",
    "            elif rf_fre > 2450e6:\n",
    "                synthd[rf_out].power = -14\n",
    "            elif rf_fre > 1900e6 and rf_fre < 2000e6:\n",
    "                synthd[rf_out].power = -25\n",
    "            elif rf_fre >= 2050e6 and rf_fre <= 2100e6:\n",
    "                synthd[rf_out].power = -25\n",
    "            else:\n",
    "                synthd[rf_out].power = -20\n",
    "        else:\n",
    "            if rf_fre < 1900e6:\n",
    "                synthd[rf_out].power = -20\n",
    "            else:\n",
    "                synthd[rf_out].power = -25\n",
    "        time.sleep(1)\n",
    "        c.mod_peak_search(first_search=True)        \n",
    "        c.zero_measure()\n",
    "        if c.mod_zero_amp < 250:\n",
    "            continue\n",
    "        c.sweep_center = 0\n",
    "        c.fir_measure(rf_fre, init_measure=True)\n",
    "        if c.fir_amp < 10: # could not find peak\n",
    "            # print(\"could not find peak\")\n",
    "            continue\n",
    "        if c.fir_amp - c.mod_zero_amp > 0 or c.mod_zero_amp - c.fir_amp < 0.5*c.fir_amp: # found the 0th order peak\n",
    "            continue\n",
    "        \n",
    "        avg = 1\n",
    "        for _ in range(avg):\n",
    "            for k in tqdm.tqdm(range(len(power_scan))):\n",
    "                start = time.time()\n",
    "                shdpower = power_scan[k]\n",
    "                synthd[rf_out].power = shdpower\n",
    "                c.fir_measure(rf_fre)\n",
    "                fir_amp[k] = fir_amp[k] + c.fir_amp/avg    \n",
    "        if max(fir_amp) < 25 and time.time() - fre_scan_start < 600: # probably did not find the right peak, refind\n",
    "            continue\n",
    "        if time.time() - fre_scan_start > 600: # still did not find the right peak, just find the peak without any zooming\n",
    "            np.delete(fre_scan, i)\n",
    "            continue\n",
    "        pow_max = power_scan[np.where(fir_amp==max(fir_amp))[0]]    \n",
    "        scan_data.append([rf_fre,pow_max])\n",
    "        fir_amps.append(fir_amp)\n",
    "        pow_max_all.append(pow_max)\n",
    "        fir_amp_all.append(fir_amp)\n",
    "        i=i+1\n",
    "    \n",
    "    import pickle\n",
    "    with open(f'2024_4_3_NLTL4_powerscan_5MHzstep_fir_amp_all-{j}.pickle', 'wb') as handle:\n",
    "        pickle.dump(fir_amp_all, handle, protocol=pickle.HIGHEST_PROTOCOL)      \n",
    "    with open(f'2024_4_3_NLTL4_powerscan_5MHzstep_fre_scan-{j}.pickle', 'wb') as handle:\n",
    "        pickle.dump(fre_scan, handle, protocol=pickle.HIGHEST_PROTOCOL)     \n",
    "    with open(f'2024_4_3_NLTL4_powerscan_5MHzstep_pow_max-{j}.pickle', 'wb') as handle:\n",
    "        pickle.dump(pow_max_all, handle, protocol=pickle.HIGHEST_PROTOCOL)     "
   ]
  },
  {
   "cell_type": "code",
   "execution_count": null,
   "metadata": {},
   "outputs": [
    {
     "data": {
      "image/png": "[encoded data removed]",
      "text/plain": [
       "<Figure size 640x480 with 1 Axes>"
      ]
     },
     "metadata": {},
     "output_type": "display_data"
    }
   ],
   "source": [
    "from scipy.signal import savgol_filter as sf\n",
    "\n",
    "for i in range(0, 1):\n",
    "    plt.plot(power_scan,fir_amp_all[i],label = \"first order\")\n",
    "    #plt.plot(power_scan,zero_amp_all[i],label = \"zero order\")\n",
    "    plt.xlabel(\"Power / dBm\")\n",
    "    plt.ylabel(\"peak amp (a.u.)\")"
   ]
  },
  {
   "cell_type": "code",
   "execution_count": null,
   "metadata": {},
   "outputs": [],
   "source": [
    "plt.plot(fre_scan, pow_max_all)"
   ]
  }
 ],
 "metadata": {
  "kernelspec": {
   "display_name": "base",
   "language": "python",
   "name": "python3"
  },
  "language_info": {
   "codemirror_mode": {
    "name": "ipython",
    "version": 3
   },
   "file_extension": ".py",
   "mimetype": "text/x-python",
   "name": "python",
   "nbconvert_exporter": "python",
   "pygments_lexer": "ipython3",
   "version": "3.11.4"
  }
 },
 "nbformat": 4,
 "nbformat_minor": 2
}
