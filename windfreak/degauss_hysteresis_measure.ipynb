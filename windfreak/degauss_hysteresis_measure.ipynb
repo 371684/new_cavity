{
 "cells": [
  {
   "cell_type": "code",
   "execution_count": 1,
   "metadata": {},
   "outputs": [],
   "source": [
    "import moku\n",
    "\n",
    "from scope_utils import set_scope, get_waveform, get_trace_data, TraceData\n",
    "from Peak_Search import ini_peak_search, reso_det, mod_peak_search,zero_measure,fir_measure\n",
    "import pyvisa\n",
    "import numpy as np\n",
    "import numpy.typing as npt\n",
    "import matplotlib.pyplot as plt\n",
    "import nidaqmx\n",
    "import h5py\n",
    "import time\n",
    "import tqdm\n",
    "from typing import List, Tuple, Sequence\n",
    "from utils_dBm import dBm_to_Vpp, Vpp_to_dBm, Vpp_to_Vrms, Vrms_to_watt\n",
    "import csv"
   ]
  },
  {
   "cell_type": "code",
   "execution_count": 2,
   "metadata": {},
   "outputs": [],
   "source": [
    "task = nidaqmx.Task()\n",
    "task.ao_channels.add_ao_voltage_chan('Dev1/ao0','mychannel',0,5)\n",
    "value = 4\n",
    "task.start()\n",
    "task.write(0)\n",
    "task.stop()"
   ]
  },
  {
   "cell_type": "code",
   "execution_count": 3,
   "metadata": {},
   "outputs": [],
   "source": [
    "from moku.instruments import MultiInstrument\n",
    "from moku.instruments import ArbitraryWaveformGenerator, Oscilloscope\n",
    "m = MultiInstrument('192.168.1.167',force_connect=True,platform_id=2)"
   ]
  },
  {
   "cell_type": "code",
   "execution_count": 4,
   "metadata": {},
   "outputs": [],
   "source": [
    "# generate a signal that the Arbitrary Waveform Genenrator should generate on the output\n",
    "period = 10\n",
    "t =  np.linspace(0,period,10000)\n",
    "de_spd = 1\n",
    "fre = 8   # in Hz\n",
    "# Sine wave with Exp decaying amplitude (can also use scipy.signal)\n",
    "def input_wave(t,decay_speed,fre):\n",
    "    v = np.exp(- decay_speed * t) * np.sin(2*np.pi*fre*t)\n",
    "    return v\n",
    "# Constant voltage trigger\n",
    "def trig_sig(t,trig_vot):\n",
    "    v = trig_vot\n",
    "    return v\n",
    "\n",
    "decay_wave = np.array([input_wave(x,de_spd,fre) for x in t])\n",
    "trig_wave = np.array([trig_sig(x,0.5) for x in t])\n",
    "\n",
    "amp_real = 0.2  # amplitude for AWG "
   ]
  },
  {
   "cell_type": "code",
   "execution_count": 5,
   "metadata": {},
   "outputs": [
    {
     "name": "stdout",
     "output_type": "stream",
     "text": [
      "start scan\n",
      "scan finished\n"
     ]
    }
   ],
   "source": [
    "try:\n",
    "    wg = m.set_instrument(1, ArbitraryWaveformGenerator)\n",
    "    osc = m.set_instrument(2, Oscilloscope)\n",
    "    # connections = []\n",
    "    # m.set_connections(connections=connections)\n",
    "    # print(\"connection clear\")\n",
    "\n",
    "    connections = [dict(source=\"Slot1OutA\", destination=\"Slot2InA\"),\n",
    "                   dict(source=\"Slot1OutA\", destination=\"Output1\"),\n",
    "                   dict(source=\"Input1\", destination=\"Slot2InB\"),]\n",
    "    m.set_connections(connections=connections)\n",
    "\n",
    "    m.set_frontend(1, \"1MOhm\", \"DC\", \"0dB\")\n",
    "    osc.set_timebase(-1, 4 * period)\n",
    "\n",
    "\n",
    "    osc.set_acquisition_mode(mode=\"Precision\")\n",
    "    osc.set_trigger(type=\"Edge\",mode = \"Normal\", source=\"ChannelA\", level= amp_real/2 * 0.9 )\n",
    "\n",
    "    wg.burst_modulate(channel=1, trigger_source='External',trigger_mode='NCycle',burst_cycles=1,trigger_level=0.5)\n",
    "    wg.generate_waveform(channel=1,sample_rate='Auto',\n",
    "        lut_data=list(decay_wave), frequency = 1/4/period,\n",
    "        amplitude = amp_real)\n",
    "    wg.enable_output(1,enable=True)\n",
    "    \n",
    "    task.start()\n",
    "    task.write(0)\n",
    "    task.stop()\n",
    "    task.start()\n",
    "    task.write(value)\n",
    "    task.stop()\n",
    "    print(\"start scan\")\n",
    "    time.sleep(4*period)\n",
    "    print(\"scan finished\")\n",
    "\n",
    "    # response = osc.save_high_res_buffer(comments=\"Test\")\n",
    "    # file_name = response[\"file_name\"]\n",
    "    # osc.download(\"persist\", file_name, \"~/high_res_data.li\")\n",
    "\n",
    "    \n",
    "except Exception as e:\n",
    "    raise e\n",
    "finally:\n",
    "    # Close the connection to the Moku device\n",
    "    # This ensures network resources and released correctly\n",
    "    wg.relinquish_ownership()\n",
    "\n"
   ]
  },
  {
   "cell_type": "code",
   "execution_count": 6,
   "metadata": {},
   "outputs": [],
   "source": [
    "task.start()\n",
    "task.write(0)\n",
    "task.stop()\n",
    "task.start()\n",
    "task.write(value)\n",
    "task.stop()"
   ]
  },
  {
   "cell_type": "code",
   "execution_count": null,
   "metadata": {},
   "outputs": [],
   "source": []
  },
  {
   "cell_type": "code",
   "execution_count": 9,
   "metadata": {},
   "outputs": [],
   "source": [
    "task.start()\n",
    "task.write(0)\n",
    "task.stop()"
   ]
  },
  {
   "cell_type": "code",
   "execution_count": null,
   "metadata": {},
   "outputs": [],
   "source": []
  },
  {
   "cell_type": "code",
   "execution_count": null,
   "metadata": {},
   "outputs": [],
   "source": []
  }
 ],
 "metadata": {
  "kernelspec": {
   "display_name": "Magnetic_shielding",
   "language": "python",
   "name": "python3"
  },
  "language_info": {
   "codemirror_mode": {
    "name": "ipython",
    "version": 3
   },
   "file_extension": ".py",
   "mimetype": "text/x-python",
   "name": "python",
   "nbconvert_exporter": "python",
   "pygments_lexer": "ipython3",
   "version": "3.11.4"
  },
  "orig_nbformat": 4
 },
 "nbformat": 4,
 "nbformat_minor": 2
}
